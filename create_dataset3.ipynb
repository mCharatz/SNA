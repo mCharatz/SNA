{
 "cells": [
  {
   "cell_type": "markdown",
   "source": [
    "## Notebook Content"
   ],
   "metadata": {
    "collapsed": false,
    "pycharm": {
     "name": "#%% md\n"
    }
   }
  },
  {
   "cell_type": "markdown",
   "source": [
    "In this notebook we create the third dataset (dataset3.pkl) that contains graph and node features derived from the graph."
   ],
   "metadata": {
    "collapsed": false,
    "pycharm": {
     "name": "#%% md\n"
    }
   }
  },
  {
   "cell_type": "code",
   "execution_count": 1,
   "outputs": [],
   "source": [
    "import pandas as pd\n",
    "import networkx as nx\n",
    "import feature_engineering"
   ],
   "metadata": {
    "collapsed": false,
    "pycharm": {
     "name": "#%%\n"
    }
   }
  },
  {
   "cell_type": "markdown",
   "source": [
    "Load the graph"
   ],
   "metadata": {
    "collapsed": false,
    "pycharm": {
     "name": "#%% md\n"
    }
   }
  },
  {
   "cell_type": "code",
   "execution_count": 2,
   "outputs": [],
   "source": [
    "G = nx.read_gpickle('data/graph_61')"
   ],
   "metadata": {
    "collapsed": false,
    "pycharm": {
     "name": "#%%\n"
    }
   }
  },
  {
   "cell_type": "code",
   "execution_count": 3,
   "outputs": [
    {
     "name": "stdout",
     "output_type": "stream",
     "text": [
      "The graph has 24564  unique nodes.\n"
     ]
    }
   ],
   "source": [
    "print(\"The graph has\", len(set(G.nodes)), \" unique nodes.\")"
   ],
   "metadata": {
    "collapsed": false,
    "pycharm": {
     "name": "#%%\n"
    }
   }
  },
  {
   "cell_type": "markdown",
   "source": [
    "### 1. Add the following graph features\n",
    "1. Graph clustering coefficient\n",
    "2. Graph transitivity\n",
    "3. Graph average degree centrality\n",
    "4. Graph connectivity\n",
    "5. Graph strongly connected subgraph\n",
    "\n",
    "###### To the nodes of the strongly connected graph add (0 to the others):\n",
    "6. Graph periphery\n",
    "7. Graph center"
   ],
   "metadata": {
    "collapsed": false,
    "pycharm": {
     "name": "#%% md\n"
    }
   }
  },
  {
   "cell_type": "code",
   "execution_count": 4,
   "outputs": [],
   "source": [
    "graph_features = pd.DataFrame()"
   ],
   "metadata": {
    "collapsed": false,
    "pycharm": {
     "name": "#%%\n"
    }
   }
  },
  {
   "cell_type": "code",
   "execution_count": null,
   "outputs": [],
   "source": [
    "graph_features, G_strongly = feature_engineering.add_graph_characteristics(G, graph_features)\n",
    "graph_features"
   ],
   "metadata": {
    "collapsed": false,
    "pycharm": {
     "name": "#%%\n"
    }
   }
  },
  {
   "cell_type": "code",
   "execution_count": 12,
   "outputs": [],
   "source": [
    "nx.write_gpickle(G_strongly, 'data/graph61_strongly')\n",
    "graph_features.to_pickle('data/graph_features.pkl')"
   ],
   "metadata": {
    "collapsed": false,
    "pycharm": {
     "name": "#%%\n"
    }
   }
  },
  {
   "cell_type": "code",
   "execution_count": 14,
   "outputs": [
    {
     "data": {
      "text/plain": "0    24539\n1       25\nName: belongs_to_graph_periphery, dtype: int64"
     },
     "execution_count": 14,
     "metadata": {},
     "output_type": "execute_result"
    }
   ],
   "source": [
    "graph_features['belongs_to_graph_periphery'].value_counts()"
   ],
   "metadata": {
    "collapsed": false,
    "pycharm": {
     "name": "#%%\n"
    }
   }
  },
  {
   "cell_type": "code",
   "execution_count": 15,
   "outputs": [
    {
     "data": {
      "text/plain": "0    24563\n1        1\nName: belongs_to_graph_center, dtype: int64"
     },
     "execution_count": 15,
     "metadata": {},
     "output_type": "execute_result"
    }
   ],
   "source": [
    "graph_features['belongs_to_graph_center'].value_counts()"
   ],
   "metadata": {
    "collapsed": false,
    "pycharm": {
     "name": "#%%\n"
    }
   }
  },
  {
   "cell_type": "markdown",
   "source": [
    "### 2. Add the following node features\n",
    "1. Node degree\n",
    "2. Node clustering coefficient\n",
    "3. Node eccentricity\n",
    "4. Node degree centrality\n",
    "5. Node closeness centrality\n",
    "6. Node betweenness centrality\n",
    "7. Node pagerank\n",
    "8. Node hits"
   ],
   "metadata": {
    "collapsed": false,
    "pycharm": {
     "name": "#%% md\n"
    }
   }
  },
  {
   "cell_type": "code",
   "execution_count": 2,
   "outputs": [
    {
     "data": {
      "text/plain": "       graph_cc  graph_transitivity  graph_average_degree_centrality  \\\n0      0.198505            0.046533                          12281.5   \n1      0.198505            0.046533                          12281.5   \n2      0.198505            0.046533                          12281.5   \n3      0.198505            0.046533                          12281.5   \n4      0.198505            0.046533                          12281.5   \n...         ...                 ...                              ...   \n24559  0.198505            0.046533                          12281.5   \n24560  0.198505            0.046533                          12281.5   \n24561  0.198505            0.046533                          12281.5   \n24562  0.198505            0.046533                          12281.5   \n24563  0.198505            0.046533                          12281.5   \n\n       is_connected  belongs_to_strongly_connected  \\\n0                 0                              1   \n1                 0                              1   \n2                 0                              1   \n3                 0                              1   \n4                 0                              1   \n...             ...                            ...   \n24559             0                              1   \n24560             0                              1   \n24561             0                              1   \n24562             0                              1   \n24563             0                              1   \n\n       belongs_to_graph_periphery  belongs_to_graph_center  \n0                               0                        0  \n1                               0                        0  \n2                               0                        0  \n3                               0                        0  \n4                               0                        0  \n...                           ...                      ...  \n24559                           0                        0  \n24560                           0                        0  \n24561                           0                        0  \n24562                           0                        0  \n24563                           0                        0  \n\n[24564 rows x 7 columns]",
      "text/html": "<div>\n<style scoped>\n    .dataframe tbody tr th:only-of-type {\n        vertical-align: middle;\n    }\n\n    .dataframe tbody tr th {\n        vertical-align: top;\n    }\n\n    .dataframe thead th {\n        text-align: right;\n    }\n</style>\n<table border=\"1\" class=\"dataframe\">\n  <thead>\n    <tr style=\"text-align: right;\">\n      <th></th>\n      <th>graph_cc</th>\n      <th>graph_transitivity</th>\n      <th>graph_average_degree_centrality</th>\n      <th>is_connected</th>\n      <th>belongs_to_strongly_connected</th>\n      <th>belongs_to_graph_periphery</th>\n      <th>belongs_to_graph_center</th>\n    </tr>\n  </thead>\n  <tbody>\n    <tr>\n      <th>0</th>\n      <td>0.198505</td>\n      <td>0.046533</td>\n      <td>12281.5</td>\n      <td>0</td>\n      <td>1</td>\n      <td>0</td>\n      <td>0</td>\n    </tr>\n    <tr>\n      <th>1</th>\n      <td>0.198505</td>\n      <td>0.046533</td>\n      <td>12281.5</td>\n      <td>0</td>\n      <td>1</td>\n      <td>0</td>\n      <td>0</td>\n    </tr>\n    <tr>\n      <th>2</th>\n      <td>0.198505</td>\n      <td>0.046533</td>\n      <td>12281.5</td>\n      <td>0</td>\n      <td>1</td>\n      <td>0</td>\n      <td>0</td>\n    </tr>\n    <tr>\n      <th>3</th>\n      <td>0.198505</td>\n      <td>0.046533</td>\n      <td>12281.5</td>\n      <td>0</td>\n      <td>1</td>\n      <td>0</td>\n      <td>0</td>\n    </tr>\n    <tr>\n      <th>4</th>\n      <td>0.198505</td>\n      <td>0.046533</td>\n      <td>12281.5</td>\n      <td>0</td>\n      <td>1</td>\n      <td>0</td>\n      <td>0</td>\n    </tr>\n    <tr>\n      <th>...</th>\n      <td>...</td>\n      <td>...</td>\n      <td>...</td>\n      <td>...</td>\n      <td>...</td>\n      <td>...</td>\n      <td>...</td>\n    </tr>\n    <tr>\n      <th>24559</th>\n      <td>0.198505</td>\n      <td>0.046533</td>\n      <td>12281.5</td>\n      <td>0</td>\n      <td>1</td>\n      <td>0</td>\n      <td>0</td>\n    </tr>\n    <tr>\n      <th>24560</th>\n      <td>0.198505</td>\n      <td>0.046533</td>\n      <td>12281.5</td>\n      <td>0</td>\n      <td>1</td>\n      <td>0</td>\n      <td>0</td>\n    </tr>\n    <tr>\n      <th>24561</th>\n      <td>0.198505</td>\n      <td>0.046533</td>\n      <td>12281.5</td>\n      <td>0</td>\n      <td>1</td>\n      <td>0</td>\n      <td>0</td>\n    </tr>\n    <tr>\n      <th>24562</th>\n      <td>0.198505</td>\n      <td>0.046533</td>\n      <td>12281.5</td>\n      <td>0</td>\n      <td>1</td>\n      <td>0</td>\n      <td>0</td>\n    </tr>\n    <tr>\n      <th>24563</th>\n      <td>0.198505</td>\n      <td>0.046533</td>\n      <td>12281.5</td>\n      <td>0</td>\n      <td>1</td>\n      <td>0</td>\n      <td>0</td>\n    </tr>\n  </tbody>\n</table>\n<p>24564 rows × 7 columns</p>\n</div>"
     },
     "execution_count": 2,
     "metadata": {},
     "output_type": "execute_result"
    }
   ],
   "source": [
    "G = nx.read_gpickle('data/graph_61')\n",
    "G_strongly = nx.read_gpickle('data/graph61_strongly')\n",
    "graph_features = pd.read_pickle('data/graph_features.pkl')\n",
    "graph_features"
   ],
   "metadata": {
    "collapsed": false,
    "pycharm": {
     "name": "#%%\n"
    }
   }
  },
  {
   "cell_type": "code",
   "execution_count": 3,
   "outputs": [
    {
     "name": "stdout",
     "output_type": "stream",
     "text": [
      "in eccentricity\n",
      "in closeness_centrality\n",
      "in betweenness_centrality\n"
     ]
    },
    {
     "name": "stderr",
     "output_type": "stream",
     "text": [
      "C:\\Users\\evapa\\miniconda3\\envs\\SNA-project\\lib\\site-packages\\networkx\\algorithms\\link_analysis\\hits_alg.py:78: FutureWarning: adjacency_matrix will return a scipy.sparse array instead of a matrix in Networkx 3.0.\n",
      "  A = nx.adjacency_matrix(G, nodelist=list(G), dtype=float)\n"
     ]
    },
    {
     "data": {
      "text/plain": "       graph_cc  graph_transitivity  graph_average_degree_centrality  \\\n0      0.198505            0.046533                          12281.5   \n1      0.198505            0.046533                          12281.5   \n2      0.198505            0.046533                          12281.5   \n3      0.198505            0.046533                          12281.5   \n4      0.198505            0.046533                          12281.5   \n...         ...                 ...                              ...   \n24559  0.198505            0.046533                          12281.5   \n24560  0.198505            0.046533                          12281.5   \n24561  0.198505            0.046533                          12281.5   \n24562  0.198505            0.046533                          12281.5   \n24563  0.198505            0.046533                          12281.5   \n\n       is_connected  belongs_to_strongly_connected  \\\n0                 0                              1   \n1                 0                              1   \n2                 0                              1   \n3                 0                              1   \n4                 0                              1   \n...             ...                            ...   \n24559             0                              1   \n24560             0                              1   \n24561             0                              1   \n24562             0                              1   \n24563             0                              1   \n\n       belongs_to_graph_periphery  belongs_to_graph_center  node_degree  \\\n0                               0                        0            8   \n1                               0                        0          726   \n2                               0                        0           27   \n3                               0                        0            2   \n4                               0                        0          350   \n...                           ...                      ...          ...   \n24559                           0                        0            1   \n24560                           0                        0            1   \n24561                           0                        0            1   \n24562                           0                        0            1   \n24563                           0                        0            1   \n\n        node_cc  graph_eccentricity  node_degree_centrality  \\\n0      0.321429                   9                0.000326   \n1      0.071876                   9                0.029557   \n2      0.108262                  10                0.001099   \n3      0.000000                  11                0.000081   \n4      0.070556                  10                0.014249   \n...         ...                 ...                     ...   \n24559  0.000000                  10                0.000041   \n24560  0.000000                  10                0.000041   \n24561  0.000000                  11                0.000041   \n24562  0.000000                  11                0.000041   \n24563  0.000000                  10                0.000041   \n\n       node_closeness_centrality  node_betweenness_centrality  node_pageRank  \\\n0                       0.326405                 1.068907e-06       0.000018   \n1                       0.411162                 3.379304e-03       0.001237   \n2                       0.315918                 1.449296e-06       0.000049   \n3                       0.263466                 8.053312e-08       0.000009   \n4                       0.358946                 1.663929e-03       0.000757   \n...                          ...                          ...            ...   \n24559                   0.307084                 0.000000e+00       0.000006   \n24560                   0.256873                 0.000000e+00       0.000006   \n24561                   0.240722                 0.000000e+00       0.000006   \n24562                   0.240722                 0.000000e+00       0.000006   \n24563                   0.272906                 0.000000e+00       0.000006   \n\n           node_hub  node_authority  \n0      3.457544e-05    3.457544e-05  \n1      1.145977e-03    1.145977e-03  \n2      2.901689e-05    2.901689e-05  \n3      4.879332e-07    4.879332e-07  \n4      1.104268e-04    1.104268e-04  \n...             ...             ...  \n24559  1.058974e-05    1.058974e-05  \n24560  3.064330e-07    3.064330e-07  \n24561  6.473794e-08    6.473794e-08  \n24562  6.473794e-08    6.473794e-08  \n24563  3.469846e-06    3.469846e-06  \n\n[24564 rows x 16 columns]",
      "text/html": "<div>\n<style scoped>\n    .dataframe tbody tr th:only-of-type {\n        vertical-align: middle;\n    }\n\n    .dataframe tbody tr th {\n        vertical-align: top;\n    }\n\n    .dataframe thead th {\n        text-align: right;\n    }\n</style>\n<table border=\"1\" class=\"dataframe\">\n  <thead>\n    <tr style=\"text-align: right;\">\n      <th></th>\n      <th>graph_cc</th>\n      <th>graph_transitivity</th>\n      <th>graph_average_degree_centrality</th>\n      <th>is_connected</th>\n      <th>belongs_to_strongly_connected</th>\n      <th>belongs_to_graph_periphery</th>\n      <th>belongs_to_graph_center</th>\n      <th>node_degree</th>\n      <th>node_cc</th>\n      <th>graph_eccentricity</th>\n      <th>node_degree_centrality</th>\n      <th>node_closeness_centrality</th>\n      <th>node_betweenness_centrality</th>\n      <th>node_pageRank</th>\n      <th>node_hub</th>\n      <th>node_authority</th>\n    </tr>\n  </thead>\n  <tbody>\n    <tr>\n      <th>0</th>\n      <td>0.198505</td>\n      <td>0.046533</td>\n      <td>12281.5</td>\n      <td>0</td>\n      <td>1</td>\n      <td>0</td>\n      <td>0</td>\n      <td>8</td>\n      <td>0.321429</td>\n      <td>9</td>\n      <td>0.000326</td>\n      <td>0.326405</td>\n      <td>1.068907e-06</td>\n      <td>0.000018</td>\n      <td>3.457544e-05</td>\n      <td>3.457544e-05</td>\n    </tr>\n    <tr>\n      <th>1</th>\n      <td>0.198505</td>\n      <td>0.046533</td>\n      <td>12281.5</td>\n      <td>0</td>\n      <td>1</td>\n      <td>0</td>\n      <td>0</td>\n      <td>726</td>\n      <td>0.071876</td>\n      <td>9</td>\n      <td>0.029557</td>\n      <td>0.411162</td>\n      <td>3.379304e-03</td>\n      <td>0.001237</td>\n      <td>1.145977e-03</td>\n      <td>1.145977e-03</td>\n    </tr>\n    <tr>\n      <th>2</th>\n      <td>0.198505</td>\n      <td>0.046533</td>\n      <td>12281.5</td>\n      <td>0</td>\n      <td>1</td>\n      <td>0</td>\n      <td>0</td>\n      <td>27</td>\n      <td>0.108262</td>\n      <td>10</td>\n      <td>0.001099</td>\n      <td>0.315918</td>\n      <td>1.449296e-06</td>\n      <td>0.000049</td>\n      <td>2.901689e-05</td>\n      <td>2.901689e-05</td>\n    </tr>\n    <tr>\n      <th>3</th>\n      <td>0.198505</td>\n      <td>0.046533</td>\n      <td>12281.5</td>\n      <td>0</td>\n      <td>1</td>\n      <td>0</td>\n      <td>0</td>\n      <td>2</td>\n      <td>0.000000</td>\n      <td>11</td>\n      <td>0.000081</td>\n      <td>0.263466</td>\n      <td>8.053312e-08</td>\n      <td>0.000009</td>\n      <td>4.879332e-07</td>\n      <td>4.879332e-07</td>\n    </tr>\n    <tr>\n      <th>4</th>\n      <td>0.198505</td>\n      <td>0.046533</td>\n      <td>12281.5</td>\n      <td>0</td>\n      <td>1</td>\n      <td>0</td>\n      <td>0</td>\n      <td>350</td>\n      <td>0.070556</td>\n      <td>10</td>\n      <td>0.014249</td>\n      <td>0.358946</td>\n      <td>1.663929e-03</td>\n      <td>0.000757</td>\n      <td>1.104268e-04</td>\n      <td>1.104268e-04</td>\n    </tr>\n    <tr>\n      <th>...</th>\n      <td>...</td>\n      <td>...</td>\n      <td>...</td>\n      <td>...</td>\n      <td>...</td>\n      <td>...</td>\n      <td>...</td>\n      <td>...</td>\n      <td>...</td>\n      <td>...</td>\n      <td>...</td>\n      <td>...</td>\n      <td>...</td>\n      <td>...</td>\n      <td>...</td>\n      <td>...</td>\n    </tr>\n    <tr>\n      <th>24559</th>\n      <td>0.198505</td>\n      <td>0.046533</td>\n      <td>12281.5</td>\n      <td>0</td>\n      <td>1</td>\n      <td>0</td>\n      <td>0</td>\n      <td>1</td>\n      <td>0.000000</td>\n      <td>10</td>\n      <td>0.000041</td>\n      <td>0.307084</td>\n      <td>0.000000e+00</td>\n      <td>0.000006</td>\n      <td>1.058974e-05</td>\n      <td>1.058974e-05</td>\n    </tr>\n    <tr>\n      <th>24560</th>\n      <td>0.198505</td>\n      <td>0.046533</td>\n      <td>12281.5</td>\n      <td>0</td>\n      <td>1</td>\n      <td>0</td>\n      <td>0</td>\n      <td>1</td>\n      <td>0.000000</td>\n      <td>10</td>\n      <td>0.000041</td>\n      <td>0.256873</td>\n      <td>0.000000e+00</td>\n      <td>0.000006</td>\n      <td>3.064330e-07</td>\n      <td>3.064330e-07</td>\n    </tr>\n    <tr>\n      <th>24561</th>\n      <td>0.198505</td>\n      <td>0.046533</td>\n      <td>12281.5</td>\n      <td>0</td>\n      <td>1</td>\n      <td>0</td>\n      <td>0</td>\n      <td>1</td>\n      <td>0.000000</td>\n      <td>11</td>\n      <td>0.000041</td>\n      <td>0.240722</td>\n      <td>0.000000e+00</td>\n      <td>0.000006</td>\n      <td>6.473794e-08</td>\n      <td>6.473794e-08</td>\n    </tr>\n    <tr>\n      <th>24562</th>\n      <td>0.198505</td>\n      <td>0.046533</td>\n      <td>12281.5</td>\n      <td>0</td>\n      <td>1</td>\n      <td>0</td>\n      <td>0</td>\n      <td>1</td>\n      <td>0.000000</td>\n      <td>11</td>\n      <td>0.000041</td>\n      <td>0.240722</td>\n      <td>0.000000e+00</td>\n      <td>0.000006</td>\n      <td>6.473794e-08</td>\n      <td>6.473794e-08</td>\n    </tr>\n    <tr>\n      <th>24563</th>\n      <td>0.198505</td>\n      <td>0.046533</td>\n      <td>12281.5</td>\n      <td>0</td>\n      <td>1</td>\n      <td>0</td>\n      <td>0</td>\n      <td>1</td>\n      <td>0.000000</td>\n      <td>10</td>\n      <td>0.000041</td>\n      <td>0.272906</td>\n      <td>0.000000e+00</td>\n      <td>0.000006</td>\n      <td>3.469846e-06</td>\n      <td>3.469846e-06</td>\n    </tr>\n  </tbody>\n</table>\n<p>24564 rows × 16 columns</p>\n</div>"
     },
     "execution_count": 3,
     "metadata": {},
     "output_type": "execute_result"
    }
   ],
   "source": [
    "graph_node_features = feature_engineering.add_node_characteristics(G, graph_features, G_strongly)\n",
    "graph_node_features"
   ],
   "metadata": {
    "collapsed": false,
    "pycharm": {
     "name": "#%%\n"
    }
   }
  },
  {
   "cell_type": "code",
   "execution_count": 4,
   "outputs": [],
   "source": [
    "graph_node_features.to_pickle('data/graph_node_features.pkl')"
   ],
   "metadata": {
    "collapsed": false,
    "pycharm": {
     "name": "#%%\n"
    }
   }
  },
  {
   "cell_type": "code",
   "execution_count": 4,
   "outputs": [
    {
     "data": {
      "text/plain": "       graph_cc  graph_transitivity  graph_average_degree_centrality  \\\n0      0.198505            0.046533                          12281.5   \n1      0.198505            0.046533                          12281.5   \n2      0.198505            0.046533                          12281.5   \n3      0.198505            0.046533                          12281.5   \n4      0.198505            0.046533                          12281.5   \n...         ...                 ...                              ...   \n24559  0.198505            0.046533                          12281.5   \n24560  0.198505            0.046533                          12281.5   \n24561  0.198505            0.046533                          12281.5   \n24562  0.198505            0.046533                          12281.5   \n24563  0.198505            0.046533                          12281.5   \n\n       is_connected  belongs_to_strongly_connected  \\\n0                 0                              1   \n1                 0                              1   \n2                 0                              1   \n3                 0                              1   \n4                 0                              1   \n...             ...                            ...   \n24559             0                              1   \n24560             0                              1   \n24561             0                              1   \n24562             0                              1   \n24563             0                              1   \n\n       belongs_to_graph_periphery  belongs_to_graph_center  node_degree  \\\n0                               0                        0            8   \n1                               0                        0          726   \n2                               0                        0           27   \n3                               0                        0            2   \n4                               0                        0          350   \n...                           ...                      ...          ...   \n24559                           0                        0            1   \n24560                           0                        0            1   \n24561                           0                        0            1   \n24562                           0                        0            1   \n24563                           0                        0            1   \n\n        node_cc  graph_eccentricity  node_degree_centrality  \\\n0      0.321429                   9                0.000326   \n1      0.071876                   9                0.029557   \n2      0.108262                  10                0.001099   \n3      0.000000                  11                0.000081   \n4      0.070556                  10                0.014249   \n...         ...                 ...                     ...   \n24559  0.000000                  10                0.000041   \n24560  0.000000                  10                0.000041   \n24561  0.000000                  11                0.000041   \n24562  0.000000                  11                0.000041   \n24563  0.000000                  10                0.000041   \n\n       node_closeness_centrality  node_betweenness_centrality  node_pageRank  \\\n0                       0.326405                 1.068907e-06       0.000018   \n1                       0.411162                 3.379304e-03       0.001237   \n2                       0.315918                 1.449296e-06       0.000049   \n3                       0.263466                 8.053312e-08       0.000009   \n4                       0.358946                 1.663929e-03       0.000757   \n...                          ...                          ...            ...   \n24559                   0.307084                 0.000000e+00       0.000006   \n24560                   0.256873                 0.000000e+00       0.000006   \n24561                   0.240722                 0.000000e+00       0.000006   \n24562                   0.240722                 0.000000e+00       0.000006   \n24563                   0.272906                 0.000000e+00       0.000006   \n\n           node_hub  node_authority  \n0      3.457544e-05    3.457544e-05  \n1      1.145977e-03    1.145977e-03  \n2      2.901689e-05    2.901689e-05  \n3      4.879332e-07    4.879332e-07  \n4      1.104268e-04    1.104268e-04  \n...             ...             ...  \n24559  1.058974e-05    1.058974e-05  \n24560  3.064330e-07    3.064330e-07  \n24561  6.473794e-08    6.473794e-08  \n24562  6.473794e-08    6.473794e-08  \n24563  3.469846e-06    3.469846e-06  \n\n[24564 rows x 16 columns]",
      "text/html": "<div>\n<style scoped>\n    .dataframe tbody tr th:only-of-type {\n        vertical-align: middle;\n    }\n\n    .dataframe tbody tr th {\n        vertical-align: top;\n    }\n\n    .dataframe thead th {\n        text-align: right;\n    }\n</style>\n<table border=\"1\" class=\"dataframe\">\n  <thead>\n    <tr style=\"text-align: right;\">\n      <th></th>\n      <th>graph_cc</th>\n      <th>graph_transitivity</th>\n      <th>graph_average_degree_centrality</th>\n      <th>is_connected</th>\n      <th>belongs_to_strongly_connected</th>\n      <th>belongs_to_graph_periphery</th>\n      <th>belongs_to_graph_center</th>\n      <th>node_degree</th>\n      <th>node_cc</th>\n      <th>graph_eccentricity</th>\n      <th>node_degree_centrality</th>\n      <th>node_closeness_centrality</th>\n      <th>node_betweenness_centrality</th>\n      <th>node_pageRank</th>\n      <th>node_hub</th>\n      <th>node_authority</th>\n    </tr>\n  </thead>\n  <tbody>\n    <tr>\n      <th>0</th>\n      <td>0.198505</td>\n      <td>0.046533</td>\n      <td>12281.5</td>\n      <td>0</td>\n      <td>1</td>\n      <td>0</td>\n      <td>0</td>\n      <td>8</td>\n      <td>0.321429</td>\n      <td>9</td>\n      <td>0.000326</td>\n      <td>0.326405</td>\n      <td>1.068907e-06</td>\n      <td>0.000018</td>\n      <td>3.457544e-05</td>\n      <td>3.457544e-05</td>\n    </tr>\n    <tr>\n      <th>1</th>\n      <td>0.198505</td>\n      <td>0.046533</td>\n      <td>12281.5</td>\n      <td>0</td>\n      <td>1</td>\n      <td>0</td>\n      <td>0</td>\n      <td>726</td>\n      <td>0.071876</td>\n      <td>9</td>\n      <td>0.029557</td>\n      <td>0.411162</td>\n      <td>3.379304e-03</td>\n      <td>0.001237</td>\n      <td>1.145977e-03</td>\n      <td>1.145977e-03</td>\n    </tr>\n    <tr>\n      <th>2</th>\n      <td>0.198505</td>\n      <td>0.046533</td>\n      <td>12281.5</td>\n      <td>0</td>\n      <td>1</td>\n      <td>0</td>\n      <td>0</td>\n      <td>27</td>\n      <td>0.108262</td>\n      <td>10</td>\n      <td>0.001099</td>\n      <td>0.315918</td>\n      <td>1.449296e-06</td>\n      <td>0.000049</td>\n      <td>2.901689e-05</td>\n      <td>2.901689e-05</td>\n    </tr>\n    <tr>\n      <th>3</th>\n      <td>0.198505</td>\n      <td>0.046533</td>\n      <td>12281.5</td>\n      <td>0</td>\n      <td>1</td>\n      <td>0</td>\n      <td>0</td>\n      <td>2</td>\n      <td>0.000000</td>\n      <td>11</td>\n      <td>0.000081</td>\n      <td>0.263466</td>\n      <td>8.053312e-08</td>\n      <td>0.000009</td>\n      <td>4.879332e-07</td>\n      <td>4.879332e-07</td>\n    </tr>\n    <tr>\n      <th>4</th>\n      <td>0.198505</td>\n      <td>0.046533</td>\n      <td>12281.5</td>\n      <td>0</td>\n      <td>1</td>\n      <td>0</td>\n      <td>0</td>\n      <td>350</td>\n      <td>0.070556</td>\n      <td>10</td>\n      <td>0.014249</td>\n      <td>0.358946</td>\n      <td>1.663929e-03</td>\n      <td>0.000757</td>\n      <td>1.104268e-04</td>\n      <td>1.104268e-04</td>\n    </tr>\n    <tr>\n      <th>...</th>\n      <td>...</td>\n      <td>...</td>\n      <td>...</td>\n      <td>...</td>\n      <td>...</td>\n      <td>...</td>\n      <td>...</td>\n      <td>...</td>\n      <td>...</td>\n      <td>...</td>\n      <td>...</td>\n      <td>...</td>\n      <td>...</td>\n      <td>...</td>\n      <td>...</td>\n      <td>...</td>\n    </tr>\n    <tr>\n      <th>24559</th>\n      <td>0.198505</td>\n      <td>0.046533</td>\n      <td>12281.5</td>\n      <td>0</td>\n      <td>1</td>\n      <td>0</td>\n      <td>0</td>\n      <td>1</td>\n      <td>0.000000</td>\n      <td>10</td>\n      <td>0.000041</td>\n      <td>0.307084</td>\n      <td>0.000000e+00</td>\n      <td>0.000006</td>\n      <td>1.058974e-05</td>\n      <td>1.058974e-05</td>\n    </tr>\n    <tr>\n      <th>24560</th>\n      <td>0.198505</td>\n      <td>0.046533</td>\n      <td>12281.5</td>\n      <td>0</td>\n      <td>1</td>\n      <td>0</td>\n      <td>0</td>\n      <td>1</td>\n      <td>0.000000</td>\n      <td>10</td>\n      <td>0.000041</td>\n      <td>0.256873</td>\n      <td>0.000000e+00</td>\n      <td>0.000006</td>\n      <td>3.064330e-07</td>\n      <td>3.064330e-07</td>\n    </tr>\n    <tr>\n      <th>24561</th>\n      <td>0.198505</td>\n      <td>0.046533</td>\n      <td>12281.5</td>\n      <td>0</td>\n      <td>1</td>\n      <td>0</td>\n      <td>0</td>\n      <td>1</td>\n      <td>0.000000</td>\n      <td>11</td>\n      <td>0.000041</td>\n      <td>0.240722</td>\n      <td>0.000000e+00</td>\n      <td>0.000006</td>\n      <td>6.473794e-08</td>\n      <td>6.473794e-08</td>\n    </tr>\n    <tr>\n      <th>24562</th>\n      <td>0.198505</td>\n      <td>0.046533</td>\n      <td>12281.5</td>\n      <td>0</td>\n      <td>1</td>\n      <td>0</td>\n      <td>0</td>\n      <td>1</td>\n      <td>0.000000</td>\n      <td>11</td>\n      <td>0.000041</td>\n      <td>0.240722</td>\n      <td>0.000000e+00</td>\n      <td>0.000006</td>\n      <td>6.473794e-08</td>\n      <td>6.473794e-08</td>\n    </tr>\n    <tr>\n      <th>24563</th>\n      <td>0.198505</td>\n      <td>0.046533</td>\n      <td>12281.5</td>\n      <td>0</td>\n      <td>1</td>\n      <td>0</td>\n      <td>0</td>\n      <td>1</td>\n      <td>0.000000</td>\n      <td>10</td>\n      <td>0.000041</td>\n      <td>0.272906</td>\n      <td>0.000000e+00</td>\n      <td>0.000006</td>\n      <td>3.469846e-06</td>\n      <td>3.469846e-06</td>\n    </tr>\n  </tbody>\n</table>\n<p>24564 rows × 16 columns</p>\n</div>"
     },
     "execution_count": 4,
     "metadata": {},
     "output_type": "execute_result"
    }
   ],
   "source": [
    "graph_node_features  = pd.read_pickle('data/graph_node_features.pkl')\n",
    "graph_node_features"
   ],
   "metadata": {
    "collapsed": false,
    "pycharm": {
     "name": "#%%\n"
    }
   }
  },
  {
   "cell_type": "markdown",
   "source": [
    "Add the political party of each node"
   ],
   "metadata": {
    "collapsed": false,
    "pycharm": {
     "name": "#%% md\n"
    }
   }
  },
  {
   "cell_type": "code",
   "execution_count": 2,
   "outputs": [
    {
     "data": {
      "text/plain": "       followers  following  total_tweets  lists  twitter_age  verified  \\\n0            166        158          1547      0         3061         0   \n1          11593       3234        133817     39         1463         0   \n3            390        423         11046      6          999         0   \n4           4428       1406         40478     19          517         0   \n5           1506        729        165786      2         1779         0   \n...          ...        ...           ...    ...          ...       ...   \n24597        154        158          4034      0          325         0   \n24598        490        853          2123      5          835         0   \n24600        520        520         16610      1         2610         0   \n24601          3         42            14      0          355         0   \n24602         20         76           552      0          790         0   \n\n         party  \n0         left  \n1         left  \n3       middle  \n4        right  \n5        right  \n...        ...  \n24597     left  \n24598     left  \n24600  neutral  \n24601   middle  \n24602     left  \n\n[23634 rows x 7 columns]",
      "text/html": "<div>\n<style scoped>\n    .dataframe tbody tr th:only-of-type {\n        vertical-align: middle;\n    }\n\n    .dataframe tbody tr th {\n        vertical-align: top;\n    }\n\n    .dataframe thead th {\n        text-align: right;\n    }\n</style>\n<table border=\"1\" class=\"dataframe\">\n  <thead>\n    <tr style=\"text-align: right;\">\n      <th></th>\n      <th>followers</th>\n      <th>following</th>\n      <th>total_tweets</th>\n      <th>lists</th>\n      <th>twitter_age</th>\n      <th>verified</th>\n      <th>party</th>\n    </tr>\n  </thead>\n  <tbody>\n    <tr>\n      <th>0</th>\n      <td>166</td>\n      <td>158</td>\n      <td>1547</td>\n      <td>0</td>\n      <td>3061</td>\n      <td>0</td>\n      <td>left</td>\n    </tr>\n    <tr>\n      <th>1</th>\n      <td>11593</td>\n      <td>3234</td>\n      <td>133817</td>\n      <td>39</td>\n      <td>1463</td>\n      <td>0</td>\n      <td>left</td>\n    </tr>\n    <tr>\n      <th>3</th>\n      <td>390</td>\n      <td>423</td>\n      <td>11046</td>\n      <td>6</td>\n      <td>999</td>\n      <td>0</td>\n      <td>middle</td>\n    </tr>\n    <tr>\n      <th>4</th>\n      <td>4428</td>\n      <td>1406</td>\n      <td>40478</td>\n      <td>19</td>\n      <td>517</td>\n      <td>0</td>\n      <td>right</td>\n    </tr>\n    <tr>\n      <th>5</th>\n      <td>1506</td>\n      <td>729</td>\n      <td>165786</td>\n      <td>2</td>\n      <td>1779</td>\n      <td>0</td>\n      <td>right</td>\n    </tr>\n    <tr>\n      <th>...</th>\n      <td>...</td>\n      <td>...</td>\n      <td>...</td>\n      <td>...</td>\n      <td>...</td>\n      <td>...</td>\n      <td>...</td>\n    </tr>\n    <tr>\n      <th>24597</th>\n      <td>154</td>\n      <td>158</td>\n      <td>4034</td>\n      <td>0</td>\n      <td>325</td>\n      <td>0</td>\n      <td>left</td>\n    </tr>\n    <tr>\n      <th>24598</th>\n      <td>490</td>\n      <td>853</td>\n      <td>2123</td>\n      <td>5</td>\n      <td>835</td>\n      <td>0</td>\n      <td>left</td>\n    </tr>\n    <tr>\n      <th>24600</th>\n      <td>520</td>\n      <td>520</td>\n      <td>16610</td>\n      <td>1</td>\n      <td>2610</td>\n      <td>0</td>\n      <td>neutral</td>\n    </tr>\n    <tr>\n      <th>24601</th>\n      <td>3</td>\n      <td>42</td>\n      <td>14</td>\n      <td>0</td>\n      <td>355</td>\n      <td>0</td>\n      <td>middle</td>\n    </tr>\n    <tr>\n      <th>24602</th>\n      <td>20</td>\n      <td>76</td>\n      <td>552</td>\n      <td>0</td>\n      <td>790</td>\n      <td>0</td>\n      <td>left</td>\n    </tr>\n  </tbody>\n</table>\n<p>23634 rows × 7 columns</p>\n</div>"
     },
     "execution_count": 2,
     "metadata": {},
     "output_type": "execute_result"
    }
   ],
   "source": [
    "party = pd.read_pickle('data/node_attributes_preprocessed.pkl')\n",
    "party"
   ],
   "metadata": {
    "collapsed": false,
    "pycharm": {
     "name": "#%%\n"
    }
   }
  },
  {
   "cell_type": "code",
   "execution_count": 3,
   "outputs": [
    {
     "data": {
      "text/plain": "0           left\n1           left\n3         middle\n4          right\n5          right\n          ...   \n24597       left\n24598       left\n24600    neutral\n24601     middle\n24602       left\nName: party, Length: 23634, dtype: object"
     },
     "execution_count": 3,
     "metadata": {},
     "output_type": "execute_result"
    }
   ],
   "source": [
    "party = party['party']\n",
    "party"
   ],
   "metadata": {
    "collapsed": false,
    "pycharm": {
     "name": "#%%\n"
    }
   }
  },
  {
   "cell_type": "markdown",
   "source": [
    "We keep only the nodes that appeared in graph and we have their political party"
   ],
   "metadata": {
    "collapsed": false,
    "pycharm": {
     "name": "#%% md\n"
    }
   }
  },
  {
   "cell_type": "code",
   "execution_count": 9,
   "outputs": [
    {
     "data": {
      "text/plain": "       graph_cc  graph_transitivity  graph_average_degree_centrality  \\\n0      0.198505            0.046533                          12281.5   \n1      0.198505            0.046533                          12281.5   \n3      0.198505            0.046533                          12281.5   \n4      0.198505            0.046533                          12281.5   \n5      0.198505            0.046533                          12281.5   \n...         ...                 ...                              ...   \n24559  0.198505            0.046533                          12281.5   \n24560  0.198505            0.046533                          12281.5   \n24561  0.198505            0.046533                          12281.5   \n24562  0.198505            0.046533                          12281.5   \n24563  0.198505            0.046533                          12281.5   \n\n       is_connected  belongs_to_strongly_connected  \\\n0                 0                              1   \n1                 0                              1   \n3                 0                              1   \n4                 0                              1   \n5                 0                              1   \n...             ...                            ...   \n24559             0                              1   \n24560             0                              1   \n24561             0                              1   \n24562             0                              1   \n24563             0                              1   \n\n       belongs_to_graph_periphery  belongs_to_graph_center  node_degree  \\\n0                               0                        0            8   \n1                               0                        0          726   \n3                               0                        0            2   \n4                               0                        0          350   \n5                               0                        0            7   \n...                           ...                      ...          ...   \n24559                           0                        0            1   \n24560                           0                        0            1   \n24561                           0                        0            1   \n24562                           0                        0            1   \n24563                           0                        0            1   \n\n        node_cc  graph_eccentricity  node_degree_centrality  \\\n0      0.321429                   9                0.000326   \n1      0.071876                   9                0.029557   \n3      0.000000                  11                0.000081   \n4      0.070556                  10                0.014249   \n5      0.047619                  11                0.000285   \n...         ...                 ...                     ...   \n24559  0.000000                  10                0.000041   \n24560  0.000000                  10                0.000041   \n24561  0.000000                  11                0.000041   \n24562  0.000000                  11                0.000041   \n24563  0.000000                  10                0.000041   \n\n       node_closeness_centrality  node_betweenness_centrality  node_pageRank  \\\n0                       0.326405                 1.068907e-06       0.000018   \n1                       0.411162                 3.379304e-03       0.001237   \n3                       0.263466                 8.053312e-08       0.000009   \n4                       0.358946                 1.663929e-03       0.000757   \n5                       0.273592                 4.066568e-05       0.000024   \n...                          ...                          ...            ...   \n24559                   0.307084                 0.000000e+00       0.000006   \n24560                   0.256873                 0.000000e+00       0.000006   \n24561                   0.240722                 0.000000e+00       0.000006   \n24562                   0.240722                 0.000000e+00       0.000006   \n24563                   0.272906                 0.000000e+00       0.000006   \n\n           node_hub  node_authority    party  \n0      3.457544e-05    3.457544e-05     left  \n1      1.145977e-03    1.145977e-03     left  \n3      4.879332e-07    4.879332e-07   middle  \n4      1.104268e-04    1.104268e-04    right  \n5      1.148707e-06    1.148707e-06    right  \n...             ...             ...      ...  \n24559  1.058974e-05    1.058974e-05     left  \n24560  3.064330e-07    3.064330e-07  neutral  \n24561  6.473794e-08    6.473794e-08    right  \n24562  6.473794e-08    6.473794e-08    right  \n24563  3.469846e-06    3.469846e-06     left  \n\n[23607 rows x 17 columns]",
      "text/html": "<div>\n<style scoped>\n    .dataframe tbody tr th:only-of-type {\n        vertical-align: middle;\n    }\n\n    .dataframe tbody tr th {\n        vertical-align: top;\n    }\n\n    .dataframe thead th {\n        text-align: right;\n    }\n</style>\n<table border=\"1\" class=\"dataframe\">\n  <thead>\n    <tr style=\"text-align: right;\">\n      <th></th>\n      <th>graph_cc</th>\n      <th>graph_transitivity</th>\n      <th>graph_average_degree_centrality</th>\n      <th>is_connected</th>\n      <th>belongs_to_strongly_connected</th>\n      <th>belongs_to_graph_periphery</th>\n      <th>belongs_to_graph_center</th>\n      <th>node_degree</th>\n      <th>node_cc</th>\n      <th>graph_eccentricity</th>\n      <th>node_degree_centrality</th>\n      <th>node_closeness_centrality</th>\n      <th>node_betweenness_centrality</th>\n      <th>node_pageRank</th>\n      <th>node_hub</th>\n      <th>node_authority</th>\n      <th>party</th>\n    </tr>\n  </thead>\n  <tbody>\n    <tr>\n      <th>0</th>\n      <td>0.198505</td>\n      <td>0.046533</td>\n      <td>12281.5</td>\n      <td>0</td>\n      <td>1</td>\n      <td>0</td>\n      <td>0</td>\n      <td>8</td>\n      <td>0.321429</td>\n      <td>9</td>\n      <td>0.000326</td>\n      <td>0.326405</td>\n      <td>1.068907e-06</td>\n      <td>0.000018</td>\n      <td>3.457544e-05</td>\n      <td>3.457544e-05</td>\n      <td>left</td>\n    </tr>\n    <tr>\n      <th>1</th>\n      <td>0.198505</td>\n      <td>0.046533</td>\n      <td>12281.5</td>\n      <td>0</td>\n      <td>1</td>\n      <td>0</td>\n      <td>0</td>\n      <td>726</td>\n      <td>0.071876</td>\n      <td>9</td>\n      <td>0.029557</td>\n      <td>0.411162</td>\n      <td>3.379304e-03</td>\n      <td>0.001237</td>\n      <td>1.145977e-03</td>\n      <td>1.145977e-03</td>\n      <td>left</td>\n    </tr>\n    <tr>\n      <th>3</th>\n      <td>0.198505</td>\n      <td>0.046533</td>\n      <td>12281.5</td>\n      <td>0</td>\n      <td>1</td>\n      <td>0</td>\n      <td>0</td>\n      <td>2</td>\n      <td>0.000000</td>\n      <td>11</td>\n      <td>0.000081</td>\n      <td>0.263466</td>\n      <td>8.053312e-08</td>\n      <td>0.000009</td>\n      <td>4.879332e-07</td>\n      <td>4.879332e-07</td>\n      <td>middle</td>\n    </tr>\n    <tr>\n      <th>4</th>\n      <td>0.198505</td>\n      <td>0.046533</td>\n      <td>12281.5</td>\n      <td>0</td>\n      <td>1</td>\n      <td>0</td>\n      <td>0</td>\n      <td>350</td>\n      <td>0.070556</td>\n      <td>10</td>\n      <td>0.014249</td>\n      <td>0.358946</td>\n      <td>1.663929e-03</td>\n      <td>0.000757</td>\n      <td>1.104268e-04</td>\n      <td>1.104268e-04</td>\n      <td>right</td>\n    </tr>\n    <tr>\n      <th>5</th>\n      <td>0.198505</td>\n      <td>0.046533</td>\n      <td>12281.5</td>\n      <td>0</td>\n      <td>1</td>\n      <td>0</td>\n      <td>0</td>\n      <td>7</td>\n      <td>0.047619</td>\n      <td>11</td>\n      <td>0.000285</td>\n      <td>0.273592</td>\n      <td>4.066568e-05</td>\n      <td>0.000024</td>\n      <td>1.148707e-06</td>\n      <td>1.148707e-06</td>\n      <td>right</td>\n    </tr>\n    <tr>\n      <th>...</th>\n      <td>...</td>\n      <td>...</td>\n      <td>...</td>\n      <td>...</td>\n      <td>...</td>\n      <td>...</td>\n      <td>...</td>\n      <td>...</td>\n      <td>...</td>\n      <td>...</td>\n      <td>...</td>\n      <td>...</td>\n      <td>...</td>\n      <td>...</td>\n      <td>...</td>\n      <td>...</td>\n      <td>...</td>\n    </tr>\n    <tr>\n      <th>24559</th>\n      <td>0.198505</td>\n      <td>0.046533</td>\n      <td>12281.5</td>\n      <td>0</td>\n      <td>1</td>\n      <td>0</td>\n      <td>0</td>\n      <td>1</td>\n      <td>0.000000</td>\n      <td>10</td>\n      <td>0.000041</td>\n      <td>0.307084</td>\n      <td>0.000000e+00</td>\n      <td>0.000006</td>\n      <td>1.058974e-05</td>\n      <td>1.058974e-05</td>\n      <td>left</td>\n    </tr>\n    <tr>\n      <th>24560</th>\n      <td>0.198505</td>\n      <td>0.046533</td>\n      <td>12281.5</td>\n      <td>0</td>\n      <td>1</td>\n      <td>0</td>\n      <td>0</td>\n      <td>1</td>\n      <td>0.000000</td>\n      <td>10</td>\n      <td>0.000041</td>\n      <td>0.256873</td>\n      <td>0.000000e+00</td>\n      <td>0.000006</td>\n      <td>3.064330e-07</td>\n      <td>3.064330e-07</td>\n      <td>neutral</td>\n    </tr>\n    <tr>\n      <th>24561</th>\n      <td>0.198505</td>\n      <td>0.046533</td>\n      <td>12281.5</td>\n      <td>0</td>\n      <td>1</td>\n      <td>0</td>\n      <td>0</td>\n      <td>1</td>\n      <td>0.000000</td>\n      <td>11</td>\n      <td>0.000041</td>\n      <td>0.240722</td>\n      <td>0.000000e+00</td>\n      <td>0.000006</td>\n      <td>6.473794e-08</td>\n      <td>6.473794e-08</td>\n      <td>right</td>\n    </tr>\n    <tr>\n      <th>24562</th>\n      <td>0.198505</td>\n      <td>0.046533</td>\n      <td>12281.5</td>\n      <td>0</td>\n      <td>1</td>\n      <td>0</td>\n      <td>0</td>\n      <td>1</td>\n      <td>0.000000</td>\n      <td>11</td>\n      <td>0.000041</td>\n      <td>0.240722</td>\n      <td>0.000000e+00</td>\n      <td>0.000006</td>\n      <td>6.473794e-08</td>\n      <td>6.473794e-08</td>\n      <td>right</td>\n    </tr>\n    <tr>\n      <th>24563</th>\n      <td>0.198505</td>\n      <td>0.046533</td>\n      <td>12281.5</td>\n      <td>0</td>\n      <td>1</td>\n      <td>0</td>\n      <td>0</td>\n      <td>1</td>\n      <td>0.000000</td>\n      <td>10</td>\n      <td>0.000041</td>\n      <td>0.272906</td>\n      <td>0.000000e+00</td>\n      <td>0.000006</td>\n      <td>3.469846e-06</td>\n      <td>3.469846e-06</td>\n      <td>left</td>\n    </tr>\n  </tbody>\n</table>\n<p>23607 rows × 17 columns</p>\n</div>"
     },
     "execution_count": 9,
     "metadata": {},
     "output_type": "execute_result"
    }
   ],
   "source": [
    "graph_node_features = graph_node_features.merge(party, left_index=True, right_index=True)\n",
    "graph_node_features"
   ],
   "metadata": {
    "collapsed": false,
    "pycharm": {
     "name": "#%%\n"
    }
   }
  },
  {
   "cell_type": "code",
   "execution_count": 11,
   "outputs": [],
   "source": [
    "graph_node_features.to_pickle('data/dataset3.pkl')"
   ],
   "metadata": {
    "collapsed": false,
    "pycharm": {
     "name": "#%%\n"
    }
   }
  },
  {
   "cell_type": "code",
   "execution_count": null,
   "outputs": [],
   "source": [],
   "metadata": {
    "collapsed": false,
    "pycharm": {
     "name": "#%%\n"
    }
   }
  }
 ],
 "metadata": {
  "kernelspec": {
   "display_name": "Python 3",
   "language": "python",
   "name": "python3"
  },
  "language_info": {
   "codemirror_mode": {
    "name": "ipython",
    "version": 2
   },
   "file_extension": ".py",
   "mimetype": "text/x-python",
   "name": "python",
   "nbconvert_exporter": "python",
   "pygments_lexer": "ipython2",
   "version": "2.7.6"
  }
 },
 "nbformat": 4,
 "nbformat_minor": 0
}