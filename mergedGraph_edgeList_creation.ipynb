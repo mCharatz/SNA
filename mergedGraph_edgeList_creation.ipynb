{
 "cells": [
  {
   "cell_type": "markdown",
   "source": [
    "## Notebook Content"
   ],
   "metadata": {
    "collapsed": false,
    "pycharm": {
     "name": "#%% md\n"
    }
   }
  },
  {
   "cell_type": "markdown",
   "source": [
    "In this notebook we implement the following:\n",
    "1. Merge all the daily graphs into one graph (graph_61)\n",
    "2. Create the dataframe edge_list of the graph_61 (graph_weighted_edgeList_61.pkl)"
   ],
   "metadata": {
    "collapsed": false,
    "pycharm": {
     "name": "#%% md\n"
    }
   }
  },
  {
   "cell_type": "code",
   "execution_count": 48,
   "metadata": {
    "collapsed": true,
    "pycharm": {
     "name": "#%%\n"
    }
   },
   "outputs": [],
   "source": [
    "import pickle\n",
    "import numpy as np\n",
    "import pandas as pd\n",
    "import networkx as nx\n",
    "import matplotlib.pyplot as plt\n",
    "from dataprep.eda import create_report"
   ]
  },
  {
   "cell_type": "markdown",
   "source": [
    "## 1. Merge all the daily graphs"
   ],
   "metadata": {
    "collapsed": false,
    "pycharm": {
     "name": "#%% md\n"
    }
   }
  },
  {
   "cell_type": "code",
   "execution_count": 49,
   "outputs": [],
   "source": [
    "graphs = []\n",
    "for i in range(0,61):\n",
    "    g = pd.read_pickle('day_graphs/Graph_%s'%i)\n",
    "    graphs.append(g)\n",
    "G = nx.compose_all(graphs)"
   ],
   "metadata": {
    "collapsed": false,
    "pycharm": {
     "name": "#%%\n"
    }
   }
  },
  {
   "cell_type": "code",
   "execution_count": 50,
   "outputs": [
    {
     "name": "stdout",
     "output_type": "stream",
     "text": [
      "The graph G has  24564  nodes and  236790  edges.\n"
     ]
    }
   ],
   "source": [
    "print(\"The graph G has \", len(G.nodes), \" nodes and \", len(G.edges), \" edges.\")"
   ],
   "metadata": {
    "collapsed": false,
    "pycharm": {
     "name": "#%%\n"
    }
   }
  },
  {
   "cell_type": "code",
   "execution_count": 51,
   "outputs": [],
   "source": [
    "nx.write_gpickle(G, 'data/graph_61')"
   ],
   "metadata": {
    "collapsed": false,
    "pycharm": {
     "name": "#%%\n"
    }
   }
  },
  {
   "cell_type": "markdown",
   "source": [
    "## 2. Create the dataframe edge list"
   ],
   "metadata": {
    "collapsed": false,
    "pycharm": {
     "name": "#%% md\n"
    }
   }
  },
  {
   "cell_type": "markdown",
   "source": [
    "##### Compute the weight of each edge in the final graph as the times that this edge has appeared in daily graphs"
   ],
   "metadata": {
    "collapsed": false,
    "pycharm": {
     "name": "#%% md\n"
    }
   }
  },
  {
   "cell_type": "markdown",
   "source": [
    "First create the edge list of the Graph_0 as the initial edge list"
   ],
   "metadata": {
    "collapsed": false,
    "pycharm": {
     "name": "#%% md\n"
    }
   }
  },
  {
   "cell_type": "code",
   "execution_count": 52,
   "outputs": [],
   "source": [
    "accepted_nodes = list(G.nodes)"
   ],
   "metadata": {
    "collapsed": false,
    "pycharm": {
     "name": "#%%\n"
    }
   }
  },
  {
   "cell_type": "code",
   "execution_count": 53,
   "outputs": [
    {
     "data": {
      "text/plain": "   source_node  target_node  weight\n0            0            1       1\n1            0            2       1\n2            3            4       1\n3            3            5       1\n4            6            7       1\n5            8            9       1\n6            8           10       1",
      "text/html": "<div>\n<style scoped>\n    .dataframe tbody tr th:only-of-type {\n        vertical-align: middle;\n    }\n\n    .dataframe tbody tr th {\n        vertical-align: top;\n    }\n\n    .dataframe thead th {\n        text-align: right;\n    }\n</style>\n<table border=\"1\" class=\"dataframe\">\n  <thead>\n    <tr style=\"text-align: right;\">\n      <th></th>\n      <th>source_node</th>\n      <th>target_node</th>\n      <th>weight</th>\n    </tr>\n  </thead>\n  <tbody>\n    <tr>\n      <th>0</th>\n      <td>0</td>\n      <td>1</td>\n      <td>1</td>\n    </tr>\n    <tr>\n      <th>1</th>\n      <td>0</td>\n      <td>2</td>\n      <td>1</td>\n    </tr>\n    <tr>\n      <th>2</th>\n      <td>3</td>\n      <td>4</td>\n      <td>1</td>\n    </tr>\n    <tr>\n      <th>3</th>\n      <td>3</td>\n      <td>5</td>\n      <td>1</td>\n    </tr>\n    <tr>\n      <th>4</th>\n      <td>6</td>\n      <td>7</td>\n      <td>1</td>\n    </tr>\n    <tr>\n      <th>5</th>\n      <td>8</td>\n      <td>9</td>\n      <td>1</td>\n    </tr>\n    <tr>\n      <th>6</th>\n      <td>8</td>\n      <td>10</td>\n      <td>1</td>\n    </tr>\n  </tbody>\n</table>\n</div>"
     },
     "execution_count": 53,
     "metadata": {},
     "output_type": "execute_result"
    }
   ],
   "source": [
    "g_0 = pd.read_pickle('day_graphs/Graph_0')\n",
    "edgeList_0 = nx.to_pandas_edgelist(g_0, source='source_node', target='target_node')\n",
    "edgeList_0['weight'] = 1\n",
    "edgeList_0"
   ],
   "metadata": {
    "collapsed": false,
    "pycharm": {
     "name": "#%%\n"
    }
   }
  },
  {
   "cell_type": "markdown",
   "source": [
    "Then for all the next daily graphs update the edge weight if the edge has appeared again, or add it as new row if it has not appeared again"
   ],
   "metadata": {
    "collapsed": false,
    "pycharm": {
     "name": "#%% md\n"
    }
   }
  },
  {
   "cell_type": "code",
   "execution_count": 54,
   "outputs": [
    {
     "data": {
      "text/plain": "        source_node  target_node  weight\n0                 0            1       1\n1                 0            2       1\n2                 1           20       1\n3                 1           27       2\n4                 1           34       1\n...             ...          ...     ...\n255593        24540         3321       1\n255594        24543         3028       1\n255595        24543         8477       1\n255596        24549         4787       1\n255597        24560         4955       1\n\n[255598 rows x 3 columns]",
      "text/html": "<div>\n<style scoped>\n    .dataframe tbody tr th:only-of-type {\n        vertical-align: middle;\n    }\n\n    .dataframe tbody tr th {\n        vertical-align: top;\n    }\n\n    .dataframe thead th {\n        text-align: right;\n    }\n</style>\n<table border=\"1\" class=\"dataframe\">\n  <thead>\n    <tr style=\"text-align: right;\">\n      <th></th>\n      <th>source_node</th>\n      <th>target_node</th>\n      <th>weight</th>\n    </tr>\n  </thead>\n  <tbody>\n    <tr>\n      <th>0</th>\n      <td>0</td>\n      <td>1</td>\n      <td>1</td>\n    </tr>\n    <tr>\n      <th>1</th>\n      <td>0</td>\n      <td>2</td>\n      <td>1</td>\n    </tr>\n    <tr>\n      <th>2</th>\n      <td>1</td>\n      <td>20</td>\n      <td>1</td>\n    </tr>\n    <tr>\n      <th>3</th>\n      <td>1</td>\n      <td>27</td>\n      <td>2</td>\n    </tr>\n    <tr>\n      <th>4</th>\n      <td>1</td>\n      <td>34</td>\n      <td>1</td>\n    </tr>\n    <tr>\n      <th>...</th>\n      <td>...</td>\n      <td>...</td>\n      <td>...</td>\n    </tr>\n    <tr>\n      <th>255593</th>\n      <td>24540</td>\n      <td>3321</td>\n      <td>1</td>\n    </tr>\n    <tr>\n      <th>255594</th>\n      <td>24543</td>\n      <td>3028</td>\n      <td>1</td>\n    </tr>\n    <tr>\n      <th>255595</th>\n      <td>24543</td>\n      <td>8477</td>\n      <td>1</td>\n    </tr>\n    <tr>\n      <th>255596</th>\n      <td>24549</td>\n      <td>4787</td>\n      <td>1</td>\n    </tr>\n    <tr>\n      <th>255597</th>\n      <td>24560</td>\n      <td>4955</td>\n      <td>1</td>\n    </tr>\n  </tbody>\n</table>\n<p>255598 rows × 3 columns</p>\n</div>"
     },
     "execution_count": 54,
     "metadata": {},
     "output_type": "execute_result"
    }
   ],
   "source": [
    "edgeList = edgeList_0\n",
    "for i in range(1,61):\n",
    "    g_i = pd.read_pickle('day_graphs/Graph_%s'%i)\n",
    "    edgeList_i = nx.to_pandas_edgelist(g_i, source='source_node', target='target_node')\n",
    "    edgeList_i['weight'] = 1\n",
    "    edgeList = pd.concat([edgeList,edgeList_i]).groupby(['source_node', 'target_node']).sum().reset_index()\n",
    "edgeList"
   ],
   "metadata": {
    "collapsed": false,
    "pycharm": {
     "name": "#%%\n"
    }
   }
  },
  {
   "cell_type": "code",
   "execution_count": 55,
   "outputs": [],
   "source": [
    "edgeList.to_pickle('data/graph_weighted_edgeList_61.pkl')"
   ],
   "metadata": {
    "collapsed": false,
    "pycharm": {
     "name": "#%%\n"
    }
   }
  },
  {
   "cell_type": "code",
   "execution_count": 56,
   "outputs": [
    {
     "name": "stdout",
     "output_type": "stream",
     "text": [
      "The edge list contains in source and target  24564  unique nodes.\n"
     ]
    }
   ],
   "source": [
    "source = list(edgeList['source_node'])\n",
    "target = list(edgeList['target_node'])\n",
    "nodes_in_edgeList = set(source+target)\n",
    "print(\"The edge list contains in source and target \", len(nodes_in_edgeList), \" unique nodes.\")"
   ],
   "metadata": {
    "collapsed": false,
    "pycharm": {
     "name": "#%%\n"
    }
   }
  },
  {
   "cell_type": "code",
   "execution_count": 57,
   "outputs": [
    {
     "name": "stdout",
     "output_type": "stream",
     "text": [
      "The graph has  24564  unique nodes\n"
     ]
    }
   ],
   "source": [
    "graph_nodes = list(G.nodes)\n",
    "print(\"The graph has \", len(graph_nodes), \" unique nodes\")"
   ],
   "metadata": {
    "collapsed": false,
    "pycharm": {
     "name": "#%%\n"
    }
   }
  },
  {
   "cell_type": "code",
   "execution_count": 58,
   "outputs": [
    {
     "data": {
      "text/plain": "  0%|          | 0/612 [00:00<?, ?it/s]",
      "application/vnd.jupyter.widget-view+json": {
       "version_major": 2,
       "version_minor": 0,
       "model_id": "9a70d85332d745d7af721fd6c2c17738"
      }
     },
     "metadata": {},
     "output_type": "display_data"
    }
   ],
   "source": [
    "create_report(edgeList).show_browser()"
   ],
   "metadata": {
    "collapsed": false,
    "pycharm": {
     "name": "#%%\n"
    }
   }
  }
 ],
 "metadata": {
  "kernelspec": {
   "display_name": "Python 3",
   "language": "python",
   "name": "python3"
  },
  "language_info": {
   "codemirror_mode": {
    "name": "ipython",
    "version": 2
   },
   "file_extension": ".py",
   "mimetype": "text/x-python",
   "name": "python",
   "nbconvert_exporter": "python",
   "pygments_lexer": "ipython2",
   "version": "2.7.6"
  }
 },
 "nbformat": 4,
 "nbformat_minor": 0
}