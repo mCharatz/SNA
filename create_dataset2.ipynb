{
 "cells": [
  {
   "cell_type": "markdown",
   "source": [
    "## Notebook Content"
   ],
   "metadata": {
    "collapsed": false,
    "pycharm": {
     "name": "#%% md\n"
    }
   }
  },
  {
   "cell_type": "markdown",
   "source": [
    "In this notebook we create the second dataset (dataset2.pkl) that contains the preprocessed node attributes (dataset1.pkl) and the following statistical features derived from them:\n",
    "1. Followers quantile\n",
    "2. Following quantile\n",
    "3. Total_tweets quantile\n",
    "4. List quantile\n",
    "5. Twitter age quantile"
   ],
   "metadata": {
    "collapsed": false,
    "pycharm": {
     "name": "#%% md\n"
    }
   }
  },
  {
   "cell_type": "code",
   "execution_count": 9,
   "outputs": [],
   "source": [
    "import pandas as pd\n",
    "from dataprep.eda import create_report"
   ],
   "metadata": {
    "collapsed": false,
    "pycharm": {
     "name": "#%%\n"
    }
   }
  },
  {
   "cell_type": "code",
   "execution_count": 10,
   "outputs": [
    {
     "data": {
      "text/plain": "       followers  following  total_tweets  lists  twitter_age  verified  \\\n0            166        158          1547      0         3061         0   \n1          11593       3234        133817     39         1463         0   \n3            390        423         11046      6          999         0   \n4           4428       1406         40478     19          517         0   \n5           1506        729        165786      2         1779         0   \n...          ...        ...           ...    ...          ...       ...   \n24597        154        158          4034      0          325         0   \n24598        490        853          2123      5          835         0   \n24600        520        520         16610      1         2610         0   \n24601          3         42            14      0          355         0   \n24602         20         76           552      0          790         0   \n\n         party  \n0         left  \n1         left  \n3       middle  \n4        right  \n5        right  \n...        ...  \n24597     left  \n24598     left  \n24600  neutral  \n24601   middle  \n24602     left  \n\n[23634 rows x 7 columns]",
      "text/html": "<div>\n<style scoped>\n    .dataframe tbody tr th:only-of-type {\n        vertical-align: middle;\n    }\n\n    .dataframe tbody tr th {\n        vertical-align: top;\n    }\n\n    .dataframe thead th {\n        text-align: right;\n    }\n</style>\n<table border=\"1\" class=\"dataframe\">\n  <thead>\n    <tr style=\"text-align: right;\">\n      <th></th>\n      <th>followers</th>\n      <th>following</th>\n      <th>total_tweets</th>\n      <th>lists</th>\n      <th>twitter_age</th>\n      <th>verified</th>\n      <th>party</th>\n    </tr>\n  </thead>\n  <tbody>\n    <tr>\n      <th>0</th>\n      <td>166</td>\n      <td>158</td>\n      <td>1547</td>\n      <td>0</td>\n      <td>3061</td>\n      <td>0</td>\n      <td>left</td>\n    </tr>\n    <tr>\n      <th>1</th>\n      <td>11593</td>\n      <td>3234</td>\n      <td>133817</td>\n      <td>39</td>\n      <td>1463</td>\n      <td>0</td>\n      <td>left</td>\n    </tr>\n    <tr>\n      <th>3</th>\n      <td>390</td>\n      <td>423</td>\n      <td>11046</td>\n      <td>6</td>\n      <td>999</td>\n      <td>0</td>\n      <td>middle</td>\n    </tr>\n    <tr>\n      <th>4</th>\n      <td>4428</td>\n      <td>1406</td>\n      <td>40478</td>\n      <td>19</td>\n      <td>517</td>\n      <td>0</td>\n      <td>right</td>\n    </tr>\n    <tr>\n      <th>5</th>\n      <td>1506</td>\n      <td>729</td>\n      <td>165786</td>\n      <td>2</td>\n      <td>1779</td>\n      <td>0</td>\n      <td>right</td>\n    </tr>\n    <tr>\n      <th>...</th>\n      <td>...</td>\n      <td>...</td>\n      <td>...</td>\n      <td>...</td>\n      <td>...</td>\n      <td>...</td>\n      <td>...</td>\n    </tr>\n    <tr>\n      <th>24597</th>\n      <td>154</td>\n      <td>158</td>\n      <td>4034</td>\n      <td>0</td>\n      <td>325</td>\n      <td>0</td>\n      <td>left</td>\n    </tr>\n    <tr>\n      <th>24598</th>\n      <td>490</td>\n      <td>853</td>\n      <td>2123</td>\n      <td>5</td>\n      <td>835</td>\n      <td>0</td>\n      <td>left</td>\n    </tr>\n    <tr>\n      <th>24600</th>\n      <td>520</td>\n      <td>520</td>\n      <td>16610</td>\n      <td>1</td>\n      <td>2610</td>\n      <td>0</td>\n      <td>neutral</td>\n    </tr>\n    <tr>\n      <th>24601</th>\n      <td>3</td>\n      <td>42</td>\n      <td>14</td>\n      <td>0</td>\n      <td>355</td>\n      <td>0</td>\n      <td>middle</td>\n    </tr>\n    <tr>\n      <th>24602</th>\n      <td>20</td>\n      <td>76</td>\n      <td>552</td>\n      <td>0</td>\n      <td>790</td>\n      <td>0</td>\n      <td>left</td>\n    </tr>\n  </tbody>\n</table>\n<p>23634 rows × 7 columns</p>\n</div>"
     },
     "execution_count": 10,
     "metadata": {},
     "output_type": "execute_result"
    }
   ],
   "source": [
    "preprocessed_node_attributes = pd.read_pickle('data/node_attributes_preprocessed.pkl')\n",
    "preprocessed_node_attributes"
   ],
   "metadata": {
    "collapsed": false,
    "pycharm": {
     "name": "#%%\n"
    }
   }
  },
  {
   "cell_type": "code",
   "execution_count": 11,
   "outputs": [
    {
     "data": {
      "text/plain": "       followers  following  total_tweets  lists  twitter_age  verified  \\\n0            166        158          1547      0         3061         0   \n1          11593       3234        133817     39         1463         0   \n3            390        423         11046      6          999         0   \n4           4428       1406         40478     19          517         0   \n5           1506        729        165786      2         1779         0   \n...          ...        ...           ...    ...          ...       ...   \n24597        154        158          4034      0          325         0   \n24598        490        853          2123      5          835         0   \n24600        520        520         16610      1         2610         0   \n24601          3         42            14      0          355         0   \n24602         20         76           552      0          790         0   \n\n         party followers_quantile following_quantile total_tweets_quantile  \\\n0         left                  1                  0                     1   \n1         left                  2                  2                     2   \n3       middle                  1                  1                     1   \n4        right                  2                  2                     2   \n5        right                  2                  1                     2   \n...        ...                ...                ...                   ...   \n24597     left                  1                  0                     1   \n24598     left                  1                  1                     1   \n24600  neutral                  1                  1                     1   \n24601   middle                  0                  0                     0   \n24602     left                  0                  0                     0   \n\n      lists_quantile twitter_age_quantile  \n0                  0                    1  \n1                  2                    1  \n3                  1                    1  \n4                  2                    0  \n5                  1                    1  \n...              ...                  ...  \n24597              1                    0  \n24598              1                    1  \n24600              1                    1  \n24601              1                    0  \n24602              1                    1  \n\n[23634 rows x 12 columns]",
      "text/html": "<div>\n<style scoped>\n    .dataframe tbody tr th:only-of-type {\n        vertical-align: middle;\n    }\n\n    .dataframe tbody tr th {\n        vertical-align: top;\n    }\n\n    .dataframe thead th {\n        text-align: right;\n    }\n</style>\n<table border=\"1\" class=\"dataframe\">\n  <thead>\n    <tr style=\"text-align: right;\">\n      <th></th>\n      <th>followers</th>\n      <th>following</th>\n      <th>total_tweets</th>\n      <th>lists</th>\n      <th>twitter_age</th>\n      <th>verified</th>\n      <th>party</th>\n      <th>followers_quantile</th>\n      <th>following_quantile</th>\n      <th>total_tweets_quantile</th>\n      <th>lists_quantile</th>\n      <th>twitter_age_quantile</th>\n    </tr>\n  </thead>\n  <tbody>\n    <tr>\n      <th>0</th>\n      <td>166</td>\n      <td>158</td>\n      <td>1547</td>\n      <td>0</td>\n      <td>3061</td>\n      <td>0</td>\n      <td>left</td>\n      <td>1</td>\n      <td>0</td>\n      <td>1</td>\n      <td>0</td>\n      <td>1</td>\n    </tr>\n    <tr>\n      <th>1</th>\n      <td>11593</td>\n      <td>3234</td>\n      <td>133817</td>\n      <td>39</td>\n      <td>1463</td>\n      <td>0</td>\n      <td>left</td>\n      <td>2</td>\n      <td>2</td>\n      <td>2</td>\n      <td>2</td>\n      <td>1</td>\n    </tr>\n    <tr>\n      <th>3</th>\n      <td>390</td>\n      <td>423</td>\n      <td>11046</td>\n      <td>6</td>\n      <td>999</td>\n      <td>0</td>\n      <td>middle</td>\n      <td>1</td>\n      <td>1</td>\n      <td>1</td>\n      <td>1</td>\n      <td>1</td>\n    </tr>\n    <tr>\n      <th>4</th>\n      <td>4428</td>\n      <td>1406</td>\n      <td>40478</td>\n      <td>19</td>\n      <td>517</td>\n      <td>0</td>\n      <td>right</td>\n      <td>2</td>\n      <td>2</td>\n      <td>2</td>\n      <td>2</td>\n      <td>0</td>\n    </tr>\n    <tr>\n      <th>5</th>\n      <td>1506</td>\n      <td>729</td>\n      <td>165786</td>\n      <td>2</td>\n      <td>1779</td>\n      <td>0</td>\n      <td>right</td>\n      <td>2</td>\n      <td>1</td>\n      <td>2</td>\n      <td>1</td>\n      <td>1</td>\n    </tr>\n    <tr>\n      <th>...</th>\n      <td>...</td>\n      <td>...</td>\n      <td>...</td>\n      <td>...</td>\n      <td>...</td>\n      <td>...</td>\n      <td>...</td>\n      <td>...</td>\n      <td>...</td>\n      <td>...</td>\n      <td>...</td>\n      <td>...</td>\n    </tr>\n    <tr>\n      <th>24597</th>\n      <td>154</td>\n      <td>158</td>\n      <td>4034</td>\n      <td>0</td>\n      <td>325</td>\n      <td>0</td>\n      <td>left</td>\n      <td>1</td>\n      <td>0</td>\n      <td>1</td>\n      <td>1</td>\n      <td>0</td>\n    </tr>\n    <tr>\n      <th>24598</th>\n      <td>490</td>\n      <td>853</td>\n      <td>2123</td>\n      <td>5</td>\n      <td>835</td>\n      <td>0</td>\n      <td>left</td>\n      <td>1</td>\n      <td>1</td>\n      <td>1</td>\n      <td>1</td>\n      <td>1</td>\n    </tr>\n    <tr>\n      <th>24600</th>\n      <td>520</td>\n      <td>520</td>\n      <td>16610</td>\n      <td>1</td>\n      <td>2610</td>\n      <td>0</td>\n      <td>neutral</td>\n      <td>1</td>\n      <td>1</td>\n      <td>1</td>\n      <td>1</td>\n      <td>1</td>\n    </tr>\n    <tr>\n      <th>24601</th>\n      <td>3</td>\n      <td>42</td>\n      <td>14</td>\n      <td>0</td>\n      <td>355</td>\n      <td>0</td>\n      <td>middle</td>\n      <td>0</td>\n      <td>0</td>\n      <td>0</td>\n      <td>1</td>\n      <td>0</td>\n    </tr>\n    <tr>\n      <th>24602</th>\n      <td>20</td>\n      <td>76</td>\n      <td>552</td>\n      <td>0</td>\n      <td>790</td>\n      <td>0</td>\n      <td>left</td>\n      <td>0</td>\n      <td>0</td>\n      <td>0</td>\n      <td>1</td>\n      <td>1</td>\n    </tr>\n  </tbody>\n</table>\n<p>23634 rows × 12 columns</p>\n</div>"
     },
     "execution_count": 11,
     "metadata": {},
     "output_type": "execute_result"
    }
   ],
   "source": [
    "columns = ['followers', 'following', 'total_tweets', 'lists', 'twitter_age']\n",
    "for col in columns:\n",
    "    preprocessed_node_attributes[\"%s_quantile\"%col] = pd.qcut(preprocessed_node_attributes[col].rank(method='first'), [0, .25, .75, 1], labels=[\"low\", \"medium\", \"high\"])\n",
    "    preprocessed_node_attributes[\"%s_quantile\"%col].replace(to_replace=['low', 'medium', 'high'], value=[0, 1, 2], inplace=True)\n",
    "preprocessed_node_attributes"
   ],
   "metadata": {
    "collapsed": false,
    "pycharm": {
     "name": "#%%\n"
    }
   }
  },
  {
   "cell_type": "code",
   "execution_count": 12,
   "outputs": [],
   "source": [
    "preprocessed_node_attributes.to_pickle('data/dataset2.pkl')"
   ],
   "metadata": {
    "collapsed": false,
    "pycharm": {
     "name": "#%%\n"
    }
   }
  },
  {
   "cell_type": "code",
   "execution_count": 13,
   "outputs": [
    {
     "data": {
      "text/plain": "  0%|          | 0/1617 [00:00<?, ?it/s]",
      "application/vnd.jupyter.widget-view+json": {
       "version_major": 2,
       "version_minor": 0,
       "model_id": "aa59d44f8d39427c9bed291e23b4e66f"
      }
     },
     "metadata": {},
     "output_type": "display_data"
    }
   ],
   "source": [
    "create_report(preprocessed_node_attributes).show_browser()"
   ],
   "metadata": {
    "collapsed": false,
    "pycharm": {
     "name": "#%%\n"
    }
   }
  },
  {
   "cell_type": "code",
   "execution_count": 13,
   "outputs": [],
   "source": [],
   "metadata": {
    "collapsed": false,
    "pycharm": {
     "name": "#%%\n"
    }
   }
  }
 ],
 "metadata": {
  "kernelspec": {
   "display_name": "Python 3",
   "language": "python",
   "name": "python3"
  },
  "language_info": {
   "codemirror_mode": {
    "name": "ipython",
    "version": 2
   },
   "file_extension": ".py",
   "mimetype": "text/x-python",
   "name": "python",
   "nbconvert_exporter": "python",
   "pygments_lexer": "ipython2",
   "version": "2.7.6"
  }
 },
 "nbformat": 4,
 "nbformat_minor": 0
}